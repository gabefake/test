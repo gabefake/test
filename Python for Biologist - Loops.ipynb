{
 "cells": [
  {
   "cell_type": "markdown",
   "metadata": {},
   "source": []
  },
  {
   "cell_type": "code",
   "execution_count": 48,
   "metadata": {},
   "outputs": [
    {
     "name": "stdout",
     "output_type": "stream",
     "text": [
      "TCGATCGATCGATCGATCGATCGATCGATCGATCGATCGATC\n",
      "The length of sequence is 43\n",
      "ACTGATCGATCGATCGATCGATCGATGCTATCGTCGT\n",
      "The length of sequence is 38\n",
      "ATCGATCACGATCTATCGTACGTATGCATATCGATATCGATCGTAGTC\n",
      "The length of sequence is 49\n",
      "ACTATCGATGATCTAGCTACGATCGTAGCTGTA\n",
      "The length of sequence is 34\n",
      "ACTAGCTAGTCTCGATGCATGATCAGCTTAGCTGATGATGCTATGCA\n",
      "The length of sequence is 48\n"
     ]
    }
   ],
   "source": [
    "# Processing DNA in a file\n",
    "\n",
    "# The file input.txt contains a number of DNA sequences, one per line. \n",
    "# Each sequence starts with the same 14 base pair fragment – a sequencing adapter that should have been removed. \n",
    "# Write a program that will \n",
    "# (a) trim this adapter and write the cleaned sequences to a new file and \n",
    "# (b) print the length of each sequence to the screen. \n",
    "\n",
    "file = open(\"input.txt\")\n",
    "trimmed_dna=open(\"trimmed.txt\",\"w\")\n",
    "for line in file:\n",
    "    ll=line[14:] #trim off adapter\n",
    "    print(ll + \"The length of sequence is \" + str(len(ll)))\n",
    "    trimmed_dna.write(ll) #add trimmed seq line by line to file\n",
    "    \n",
    "  \n",
    "\n"
   ]
  },
  {
   "cell_type": "code",
   "execution_count": 25,
   "metadata": {},
   "outputs": [],
   "source": [
    "# Multiple exons from genomic DNA\n",
    "\n",
    "# The file genomic_dna.txt contains a section of genomic DNA, \n",
    "# and the file exons.txt contains a list of start/stop positions of exons. \n",
    "# Each exon is on a separate line and the start and stop positions are separated by a comma. \n",
    "# The start and stop positions follow Python conventions; \n",
    "# they start from zero and are inclusive at the start and exclusive at the end. \n",
    "# Write a program that will extract the exon segments, concatenate them, and write them to a new file.\n",
    "\n",
    "# This is a tricky exercise with several parts: your program will have to:\n",
    "\n",
    "#     read the exon file line by line\n",
    "#     split each exon line into two numbers\n",
    "#     turn those numbers into integers\n",
    "#     extract the matching part of the genomic DNA sequence\n",
    "#     concatenate all the exon sequences together\n",
    "\n"
   ]
  },
  {
   "cell_type": "code",
   "execution_count": 33,
   "metadata": {},
   "outputs": [
    {
     "name": "stdout",
     "output_type": "stream",
     "text": [
      "['5,58\\n', '72,133\\n', '190,276\\n', '340,398\\n']\n",
      "TCGATCGTACCGTCGACGATGCTACGATCGTCGATCGTAGTCGATCATCGATCGATCGACTGATCGATCGATCGATCGATCGATATCGATCGATATCATCGATGCATCGATCATCGATCGATCGATCGATCGATCGATCATATGTCAGTCGATGCATCGTAGCATCGTATAGTAGCTACGTAGCTACGATCGATCGATCGATCGTAGCTAGCTAGCTAGATCGATCATCATCGTAGCTAGCTCGACTAGCTACGTACGATCGATGCATCGATCGTAGCTAGTACGATCGCGTAGCTAGCATGCTACGTAGATCGATCGATGCATGCTAGCTAGCTAGCTACGATCGATCGATCGATCGATCGATCGATCGATCGATCGATCGTAGCTAGCTACGATCGATGCTACGTAGATCGATCGCTAGTAGATCGATCGCTAGCTAGCTGACTAGTACGCTGCTAGTAGTCAGCTAGATCGATGCTAGTCA\n",
      "\n"
     ]
    }
   ],
   "source": [
    "exon_file = open(\"exons.txt\")\n",
    "exon_pos=exon_file.readlines()  #returns list of all lines\n",
    "print(exon_pos)\n",
    "\n",
    "genome_file = open(\"genomic_dna.txt\")\n",
    "genome=genome_file.read() #get contents as one big string\n",
    "print(genome)\n",
    "\n"
   ]
  },
  {
   "cell_type": "code",
   "execution_count": 69,
   "metadata": {},
   "outputs": [
    {
     "name": "stdout",
     "output_type": "stream",
     "text": [
      "CGTACCGTCGACGATGCTACGATCGTCGATCGTAGTCGATCATCGATCGATCG\n",
      "CGTACCGTCGACGATGCTACGATCGTCGATCGTAGTCGATCATCGATCGATCGCGATCGATCGATATCGATCGATATCATCGATGCATCGATCATCGATCGATCGATCGATCGA\n",
      "CGTACCGTCGACGATGCTACGATCGTCGATCGTAGTCGATCATCGATCGATCGCGATCGATCGATATCGATCGATATCATCGATGCATCGATCATCGATCGATCGATCGATCGACGATCGATCGATCGTAGCTAGCTAGCTAGATCGATCATCATCGTAGCTAGCTCGACTAGCTACGTACGATCGATGCATCGATCGTA\n",
      "CGTACCGTCGACGATGCTACGATCGTCGATCGTAGTCGATCATCGATCGATCGCGATCGATCGATATCGATCGATATCATCGATGCATCGATCATCGATCGATCGATCGATCGACGATCGATCGATCGTAGCTAGCTAGCTAGATCGATCATCATCGTAGCTAGCTCGACTAGCTACGTACGATCGATGCATCGATCGTACGATCGATCGATCGATCGATCGATCGATCGATCGATCGATCGTAGCTAGCTACGATCG\n"
     ]
    },
    {
     "data": {
      "text/plain": [
       "<function TextIOWrapper.close()>"
      ]
     },
     "execution_count": 69,
     "metadata": {},
     "output_type": "execute_result"
    }
   ],
   "source": [
    "exon_loc = open(\"exons.txt\")\n",
    "genome_file = open(\"genomic_dna.txt\")\n",
    "genome=genome_file.read() #get contents as one big string\n",
    "coding_sequence=\"\"\n",
    "for line in exon_loc:\n",
    "    exon_pos=line.split(\",\")\n",
    "    start=exon_pos[0]\n",
    "    end=exon_pos[1]\n",
    "    genome_exon=genome[int(start):int(end)]\n",
    "    #print(genome_exon)\n",
    "    coding_sequence+=genome_exon\n",
    "    print(coding_sequence)\n",
    "    \n",
    "output= open(\"coding_seq.txt\", \"w\")\n",
    "output.write(coding_sequence)\n",
    "output.close\n",
    "    \n",
    "    "
   ]
  }
 ],
 "metadata": {
  "kernelspec": {
   "display_name": "Python 3",
   "language": "python",
   "name": "python3"
  },
  "language_info": {
   "codemirror_mode": {
    "name": "ipython",
    "version": 3
   },
   "file_extension": ".py",
   "mimetype": "text/x-python",
   "name": "python",
   "nbconvert_exporter": "python",
   "pygments_lexer": "ipython3",
   "version": "3.6.5"
  }
 },
 "nbformat": 4,
 "nbformat_minor": 2
}
