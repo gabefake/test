{
 "cells": [
  {
   "cell_type": "code",
   "execution_count": 3,
   "metadata": {},
   "outputs": [
    {
     "name": "stdout",
     "output_type": "stream",
     "text": [
      "1.04\n"
     ]
    }
   ],
   "source": [
    "#Corey: know instance variable and class variables\n",
    "class Employee:\n",
    "    \n",
    "    raise_amount = 1.04\n",
    "    \n",
    "    def __init__(self, first, last, pay): #constructor\n",
    "        self.first = first #setting all instance variables\n",
    "        self.last = last #first, last, pay, email are ATTRIBUTES of the Class\n",
    "        self.pay = pay\n",
    "        self.email = first + '.' + last + '@company.com'\n",
    "        \n",
    "    def fullname(self): #create a method in class called fullname, *impt* to put in self\n",
    "        return '{} {}'.format(self.first, self.last)\n",
    "    \n",
    "    def apply_raise(self):\n",
    "        self.pay = int(self.pay*self.raise_amount)\n",
    "    \n",
    "#emp_1.fullname()\n",
    "#Employee.fullname(emp_1) \n",
    "#are the same thing, but in the class, emp_1 is auto-passed into () in emp_1.fullname()...\n",
    "#Employee.fullname(emp_1) is when you do it manually\n",
    "#therefore the class method fullname, transforms emp_1.fullname() to Employee.fullname(emp_1) \n",
    "\n",
    "        \n",
    "emp_1 = Employee ('Corey', 'Sch', 50000) #emp_1 and emp_2 are self\n",
    "emp_2 = Employee ('Tester', 'Smith', 50000)\n",
    "\n",
    "print(emp_1.raise_amount)\n",
    "\n",
    "#print(emp_1.email)\n",
    "#print(emp_1.fullname()) #() needed as it is a method instead of an attribute"
   ]
  },
  {
   "cell_type": "code",
   "execution_count": null,
   "metadata": {},
   "outputs": [],
   "source": []
  }
 ],
 "metadata": {
  "kernelspec": {
   "display_name": "Python 3",
   "language": "python",
   "name": "python3"
  },
  "language_info": {
   "codemirror_mode": {
    "name": "ipython",
    "version": 3
   },
   "file_extension": ".py",
   "mimetype": "text/x-python",
   "name": "python",
   "nbconvert_exporter": "python",
   "pygments_lexer": "ipython3",
   "version": "3.6.5"
  }
 },
 "nbformat": 4,
 "nbformat_minor": 2
}
